{
  "nbformat": 4,
  "nbformat_minor": 0,
  "metadata": {
    "colab": {
      "provenance": [],
      "toc_visible": true,
      "authorship_tag": "ABX9TyOG9bYhp0SpzPwYyhFpX2/a",
      "include_colab_link": true
    },
    "kernelspec": {
      "name": "python3",
      "display_name": "Python 3"
    },
    "language_info": {
      "name": "python"
    },
    "gpuClass": "standard",
    "accelerator": "GPU"
  },
  "cells": [
    {
      "cell_type": "markdown",
      "metadata": {
        "id": "view-in-github",
        "colab_type": "text"
      },
      "source": [
        "<a href=\"https://colab.research.google.com/github/r-sanjiv/1st/blob/main/Exploratory_Data_Analysis.ipynb\" target=\"_parent\"><img src=\"https://colab.research.google.com/assets/colab-badge.svg\" alt=\"Open In Colab\"/></a>"
      ]
    },
    {
      "cell_type": "markdown",
      "source": [
        "**Data Analysis**"
      ],
      "metadata": {
        "id": "wq-yyMHFm5Sa"
      }
    },
    {
      "cell_type": "code",
      "execution_count": 1,
      "metadata": {
        "id": "xpY3h56JSrXZ"
      },
      "outputs": [],
      "source": [
        "import pandas as pd\n",
        "import numpy as np\n",
        "import matplotlib.pyplot as plt\n",
        "%matplotlib inline\n",
        "import seaborn as sns"
      ]
    },
    {
      "cell_type": "code",
      "source": [
        "data = pd.read_csv('https://raw.githubusercontent.com/r-sanjiv/Exploratory_Data_Analysis/main/forbes_billionaires_2022.csv')\n",
        "data"
      ],
      "metadata": {
        "colab": {
          "base_uri": "https://localhost:8080/",
          "height": 1000
        },
        "id": "pzlpOmvAFmyB",
        "outputId": "9dba02d8-c0d0-47c6-afa4-5e9c2585e6e5"
      },
      "execution_count": 2,
      "outputs": [
        {
          "output_type": "execute_result",
          "data": {
            "text/plain": [
              "      rank                personName   age  finalWorth               category  \\\n",
              "0        1                 Elon Musk  50.0      219000             Automotive   \n",
              "1        2                Jeff Bezos  58.0      171000             Technology   \n",
              "2        3  Bernard Arnault & family  73.0      158000       Fashion & Retail   \n",
              "3        4                Bill Gates  66.0      129000             Technology   \n",
              "4        5            Warren Buffett  91.0      118000  Finance & Investments   \n",
              "...    ...                       ...   ...         ...                    ...   \n",
              "2663  2578             Zhang Yuqiang  66.0        1000          Manufacturing   \n",
              "2664  2578                Zhou Ruxin  59.0        1000             Technology   \n",
              "2665  2578         Wen Zhou & family  57.0        1000          Manufacturing   \n",
              "2666  2578      Zhou Yifeng & family  43.0        1000                 Energy   \n",
              "2667  2578   Zhuang Kuilong & family  59.0        1000          Manufacturing   \n",
              "\n",
              "                       source        country       state          city  \\\n",
              "0               Tesla, SpaceX  United States       Texas        Austin   \n",
              "1                      Amazon  United States  Washington       Seattle   \n",
              "2                        LVMH         France         NaN         Paris   \n",
              "3                   Microsoft  United States  Washington        Medina   \n",
              "4          Berkshire Hathaway  United States    Nebraska         Omaha   \n",
              "...                       ...            ...         ...           ...   \n",
              "2663               Fiberglass          China         NaN     Tongxiang   \n",
              "2664               Navigation          China         NaN       Beijing   \n",
              "2665                chemicals          China         NaN      Shanghai   \n",
              "2666  liquefied petroleum gas          China         NaN  Zhangjiagang   \n",
              "2667                polyester          China         NaN       Jiaxing   \n",
              "\n",
              "                          organization  selfMade gender   birthDate  \\\n",
              "0                                Tesla      True      M   6/28/1971   \n",
              "1                               Amazon      True      M   1/12/1964   \n",
              "2     LVMH Moët Hennessy Louis Vuitton     False      M    3/5/1949   \n",
              "3      Bill & Melinda Gates Foundation      True      M  10/28/1955   \n",
              "4                   Berkshire Hathaway      True      M   8/30/1930   \n",
              "...                                ...       ...    ...         ...   \n",
              "2663                               NaN      True      M    9/1/1955   \n",
              "2664                               NaN      True      M    3/1/1963   \n",
              "2665                               NaN      True      M    3/6/1965   \n",
              "2666                               NaN      True      F   7/11/1978   \n",
              "2667                               NaN      True      M   6/15/1962   \n",
              "\n",
              "                 title  philanthropyScore  \\\n",
              "0                  CEO                1.0   \n",
              "1         Entrepreneur                1.0   \n",
              "2     Chairman and CEO                NaN   \n",
              "3            Cofounder                4.0   \n",
              "4                  CEO                5.0   \n",
              "...                ...                ...   \n",
              "2663               NaN                NaN   \n",
              "2664               NaN                NaN   \n",
              "2665               NaN                NaN   \n",
              "2666               NaN                NaN   \n",
              "2667               NaN                NaN   \n",
              "\n",
              "                                                    bio  \\\n",
              "0     Elon Musk is working to revolutionize transpor...   \n",
              "1     Jeff Bezos founded e-commerce giant Amazon in ...   \n",
              "2     Bernard Arnault oversees the LVMH empire of so...   \n",
              "3     Bill Gates turned his fortune from software fi...   \n",
              "4     Known as the \"Oracle of Omaha,\" Warren Buffett...   \n",
              "...                                                 ...   \n",
              "2663  Zhang Yuqiang chairs Zhenshi Holding Group, a ...   \n",
              "2664  Zhou Ruxin chairs Beijing BDStar Navigation, a...   \n",
              "2665  Zhou Wen chairs Shanghai Pret Composites, a su...   \n",
              "2666  Zhou Yifeng chairs Shenzhen-listed Oriental En...   \n",
              "2667  Zhuang Kuilong chairs Xinfengming Group, a man...   \n",
              "\n",
              "                                                  about  \n",
              "0     Musk was accepted to a graduate program at Sta...  \n",
              "1     Growing up, Jeff Bezos worked summers on his g...  \n",
              "2     Arnault apparently wooed his wife, Helene Merc...  \n",
              "3     When Gates was a kid, he spent so much time re...  \n",
              "4     Buffett still lives in the same Omaha, Nebrask...  \n",
              "...                                                 ...  \n",
              "2663                                                NaN  \n",
              "2664                                                NaN  \n",
              "2665                                                NaN  \n",
              "2666                                                NaN  \n",
              "2667                                                NaN  \n",
              "\n",
              "[2668 rows x 17 columns]"
            ],
            "text/html": [
              "\n",
              "  <div id=\"df-0aded011-0d7b-4db1-9fd9-515c5dc6d3d8\">\n",
              "    <div class=\"colab-df-container\">\n",
              "      <div>\n",
              "<style scoped>\n",
              "    .dataframe tbody tr th:only-of-type {\n",
              "        vertical-align: middle;\n",
              "    }\n",
              "\n",
              "    .dataframe tbody tr th {\n",
              "        vertical-align: top;\n",
              "    }\n",
              "\n",
              "    .dataframe thead th {\n",
              "        text-align: right;\n",
              "    }\n",
              "</style>\n",
              "<table border=\"1\" class=\"dataframe\">\n",
              "  <thead>\n",
              "    <tr style=\"text-align: right;\">\n",
              "      <th></th>\n",
              "      <th>rank</th>\n",
              "      <th>personName</th>\n",
              "      <th>age</th>\n",
              "      <th>finalWorth</th>\n",
              "      <th>category</th>\n",
              "      <th>source</th>\n",
              "      <th>country</th>\n",
              "      <th>state</th>\n",
              "      <th>city</th>\n",
              "      <th>organization</th>\n",
              "      <th>selfMade</th>\n",
              "      <th>gender</th>\n",
              "      <th>birthDate</th>\n",
              "      <th>title</th>\n",
              "      <th>philanthropyScore</th>\n",
              "      <th>bio</th>\n",
              "      <th>about</th>\n",
              "    </tr>\n",
              "  </thead>\n",
              "  <tbody>\n",
              "    <tr>\n",
              "      <th>0</th>\n",
              "      <td>1</td>\n",
              "      <td>Elon Musk</td>\n",
              "      <td>50.0</td>\n",
              "      <td>219000</td>\n",
              "      <td>Automotive</td>\n",
              "      <td>Tesla, SpaceX</td>\n",
              "      <td>United States</td>\n",
              "      <td>Texas</td>\n",
              "      <td>Austin</td>\n",
              "      <td>Tesla</td>\n",
              "      <td>True</td>\n",
              "      <td>M</td>\n",
              "      <td>6/28/1971</td>\n",
              "      <td>CEO</td>\n",
              "      <td>1.0</td>\n",
              "      <td>Elon Musk is working to revolutionize transpor...</td>\n",
              "      <td>Musk was accepted to a graduate program at Sta...</td>\n",
              "    </tr>\n",
              "    <tr>\n",
              "      <th>1</th>\n",
              "      <td>2</td>\n",
              "      <td>Jeff Bezos</td>\n",
              "      <td>58.0</td>\n",
              "      <td>171000</td>\n",
              "      <td>Technology</td>\n",
              "      <td>Amazon</td>\n",
              "      <td>United States</td>\n",
              "      <td>Washington</td>\n",
              "      <td>Seattle</td>\n",
              "      <td>Amazon</td>\n",
              "      <td>True</td>\n",
              "      <td>M</td>\n",
              "      <td>1/12/1964</td>\n",
              "      <td>Entrepreneur</td>\n",
              "      <td>1.0</td>\n",
              "      <td>Jeff Bezos founded e-commerce giant Amazon in ...</td>\n",
              "      <td>Growing up, Jeff Bezos worked summers on his g...</td>\n",
              "    </tr>\n",
              "    <tr>\n",
              "      <th>2</th>\n",
              "      <td>3</td>\n",
              "      <td>Bernard Arnault &amp; family</td>\n",
              "      <td>73.0</td>\n",
              "      <td>158000</td>\n",
              "      <td>Fashion &amp; Retail</td>\n",
              "      <td>LVMH</td>\n",
              "      <td>France</td>\n",
              "      <td>NaN</td>\n",
              "      <td>Paris</td>\n",
              "      <td>LVMH Moët Hennessy Louis Vuitton</td>\n",
              "      <td>False</td>\n",
              "      <td>M</td>\n",
              "      <td>3/5/1949</td>\n",
              "      <td>Chairman and CEO</td>\n",
              "      <td>NaN</td>\n",
              "      <td>Bernard Arnault oversees the LVMH empire of so...</td>\n",
              "      <td>Arnault apparently wooed his wife, Helene Merc...</td>\n",
              "    </tr>\n",
              "    <tr>\n",
              "      <th>3</th>\n",
              "      <td>4</td>\n",
              "      <td>Bill Gates</td>\n",
              "      <td>66.0</td>\n",
              "      <td>129000</td>\n",
              "      <td>Technology</td>\n",
              "      <td>Microsoft</td>\n",
              "      <td>United States</td>\n",
              "      <td>Washington</td>\n",
              "      <td>Medina</td>\n",
              "      <td>Bill &amp; Melinda Gates Foundation</td>\n",
              "      <td>True</td>\n",
              "      <td>M</td>\n",
              "      <td>10/28/1955</td>\n",
              "      <td>Cofounder</td>\n",
              "      <td>4.0</td>\n",
              "      <td>Bill Gates turned his fortune from software fi...</td>\n",
              "      <td>When Gates was a kid, he spent so much time re...</td>\n",
              "    </tr>\n",
              "    <tr>\n",
              "      <th>4</th>\n",
              "      <td>5</td>\n",
              "      <td>Warren Buffett</td>\n",
              "      <td>91.0</td>\n",
              "      <td>118000</td>\n",
              "      <td>Finance &amp; Investments</td>\n",
              "      <td>Berkshire Hathaway</td>\n",
              "      <td>United States</td>\n",
              "      <td>Nebraska</td>\n",
              "      <td>Omaha</td>\n",
              "      <td>Berkshire Hathaway</td>\n",
              "      <td>True</td>\n",
              "      <td>M</td>\n",
              "      <td>8/30/1930</td>\n",
              "      <td>CEO</td>\n",
              "      <td>5.0</td>\n",
              "      <td>Known as the \"Oracle of Omaha,\" Warren Buffett...</td>\n",
              "      <td>Buffett still lives in the same Omaha, Nebrask...</td>\n",
              "    </tr>\n",
              "    <tr>\n",
              "      <th>...</th>\n",
              "      <td>...</td>\n",
              "      <td>...</td>\n",
              "      <td>...</td>\n",
              "      <td>...</td>\n",
              "      <td>...</td>\n",
              "      <td>...</td>\n",
              "      <td>...</td>\n",
              "      <td>...</td>\n",
              "      <td>...</td>\n",
              "      <td>...</td>\n",
              "      <td>...</td>\n",
              "      <td>...</td>\n",
              "      <td>...</td>\n",
              "      <td>...</td>\n",
              "      <td>...</td>\n",
              "      <td>...</td>\n",
              "      <td>...</td>\n",
              "    </tr>\n",
              "    <tr>\n",
              "      <th>2663</th>\n",
              "      <td>2578</td>\n",
              "      <td>Zhang Yuqiang</td>\n",
              "      <td>66.0</td>\n",
              "      <td>1000</td>\n",
              "      <td>Manufacturing</td>\n",
              "      <td>Fiberglass</td>\n",
              "      <td>China</td>\n",
              "      <td>NaN</td>\n",
              "      <td>Tongxiang</td>\n",
              "      <td>NaN</td>\n",
              "      <td>True</td>\n",
              "      <td>M</td>\n",
              "      <td>9/1/1955</td>\n",
              "      <td>NaN</td>\n",
              "      <td>NaN</td>\n",
              "      <td>Zhang Yuqiang chairs Zhenshi Holding Group, a ...</td>\n",
              "      <td>NaN</td>\n",
              "    </tr>\n",
              "    <tr>\n",
              "      <th>2664</th>\n",
              "      <td>2578</td>\n",
              "      <td>Zhou Ruxin</td>\n",
              "      <td>59.0</td>\n",
              "      <td>1000</td>\n",
              "      <td>Technology</td>\n",
              "      <td>Navigation</td>\n",
              "      <td>China</td>\n",
              "      <td>NaN</td>\n",
              "      <td>Beijing</td>\n",
              "      <td>NaN</td>\n",
              "      <td>True</td>\n",
              "      <td>M</td>\n",
              "      <td>3/1/1963</td>\n",
              "      <td>NaN</td>\n",
              "      <td>NaN</td>\n",
              "      <td>Zhou Ruxin chairs Beijing BDStar Navigation, a...</td>\n",
              "      <td>NaN</td>\n",
              "    </tr>\n",
              "    <tr>\n",
              "      <th>2665</th>\n",
              "      <td>2578</td>\n",
              "      <td>Wen Zhou &amp; family</td>\n",
              "      <td>57.0</td>\n",
              "      <td>1000</td>\n",
              "      <td>Manufacturing</td>\n",
              "      <td>chemicals</td>\n",
              "      <td>China</td>\n",
              "      <td>NaN</td>\n",
              "      <td>Shanghai</td>\n",
              "      <td>NaN</td>\n",
              "      <td>True</td>\n",
              "      <td>M</td>\n",
              "      <td>3/6/1965</td>\n",
              "      <td>NaN</td>\n",
              "      <td>NaN</td>\n",
              "      <td>Zhou Wen chairs Shanghai Pret Composites, a su...</td>\n",
              "      <td>NaN</td>\n",
              "    </tr>\n",
              "    <tr>\n",
              "      <th>2666</th>\n",
              "      <td>2578</td>\n",
              "      <td>Zhou Yifeng &amp; family</td>\n",
              "      <td>43.0</td>\n",
              "      <td>1000</td>\n",
              "      <td>Energy</td>\n",
              "      <td>liquefied petroleum gas</td>\n",
              "      <td>China</td>\n",
              "      <td>NaN</td>\n",
              "      <td>Zhangjiagang</td>\n",
              "      <td>NaN</td>\n",
              "      <td>True</td>\n",
              "      <td>F</td>\n",
              "      <td>7/11/1978</td>\n",
              "      <td>NaN</td>\n",
              "      <td>NaN</td>\n",
              "      <td>Zhou Yifeng chairs Shenzhen-listed Oriental En...</td>\n",
              "      <td>NaN</td>\n",
              "    </tr>\n",
              "    <tr>\n",
              "      <th>2667</th>\n",
              "      <td>2578</td>\n",
              "      <td>Zhuang Kuilong &amp; family</td>\n",
              "      <td>59.0</td>\n",
              "      <td>1000</td>\n",
              "      <td>Manufacturing</td>\n",
              "      <td>polyester</td>\n",
              "      <td>China</td>\n",
              "      <td>NaN</td>\n",
              "      <td>Jiaxing</td>\n",
              "      <td>NaN</td>\n",
              "      <td>True</td>\n",
              "      <td>M</td>\n",
              "      <td>6/15/1962</td>\n",
              "      <td>NaN</td>\n",
              "      <td>NaN</td>\n",
              "      <td>Zhuang Kuilong chairs Xinfengming Group, a man...</td>\n",
              "      <td>NaN</td>\n",
              "    </tr>\n",
              "  </tbody>\n",
              "</table>\n",
              "<p>2668 rows × 17 columns</p>\n",
              "</div>\n",
              "      <button class=\"colab-df-convert\" onclick=\"convertToInteractive('df-0aded011-0d7b-4db1-9fd9-515c5dc6d3d8')\"\n",
              "              title=\"Convert this dataframe to an interactive table.\"\n",
              "              style=\"display:none;\">\n",
              "        \n",
              "  <svg xmlns=\"http://www.w3.org/2000/svg\" height=\"24px\"viewBox=\"0 0 24 24\"\n",
              "       width=\"24px\">\n",
              "    <path d=\"M0 0h24v24H0V0z\" fill=\"none\"/>\n",
              "    <path d=\"M18.56 5.44l.94 2.06.94-2.06 2.06-.94-2.06-.94-.94-2.06-.94 2.06-2.06.94zm-11 1L8.5 8.5l.94-2.06 2.06-.94-2.06-.94L8.5 2.5l-.94 2.06-2.06.94zm10 10l.94 2.06.94-2.06 2.06-.94-2.06-.94-.94-2.06-.94 2.06-2.06.94z\"/><path d=\"M17.41 7.96l-1.37-1.37c-.4-.4-.92-.59-1.43-.59-.52 0-1.04.2-1.43.59L10.3 9.45l-7.72 7.72c-.78.78-.78 2.05 0 2.83L4 21.41c.39.39.9.59 1.41.59.51 0 1.02-.2 1.41-.59l7.78-7.78 2.81-2.81c.8-.78.8-2.07 0-2.86zM5.41 20L4 18.59l7.72-7.72 1.47 1.35L5.41 20z\"/>\n",
              "  </svg>\n",
              "      </button>\n",
              "      \n",
              "  <style>\n",
              "    .colab-df-container {\n",
              "      display:flex;\n",
              "      flex-wrap:wrap;\n",
              "      gap: 12px;\n",
              "    }\n",
              "\n",
              "    .colab-df-convert {\n",
              "      background-color: #E8F0FE;\n",
              "      border: none;\n",
              "      border-radius: 50%;\n",
              "      cursor: pointer;\n",
              "      display: none;\n",
              "      fill: #1967D2;\n",
              "      height: 32px;\n",
              "      padding: 0 0 0 0;\n",
              "      width: 32px;\n",
              "    }\n",
              "\n",
              "    .colab-df-convert:hover {\n",
              "      background-color: #E2EBFA;\n",
              "      box-shadow: 0px 1px 2px rgba(60, 64, 67, 0.3), 0px 1px 3px 1px rgba(60, 64, 67, 0.15);\n",
              "      fill: #174EA6;\n",
              "    }\n",
              "\n",
              "    [theme=dark] .colab-df-convert {\n",
              "      background-color: #3B4455;\n",
              "      fill: #D2E3FC;\n",
              "    }\n",
              "\n",
              "    [theme=dark] .colab-df-convert:hover {\n",
              "      background-color: #434B5C;\n",
              "      box-shadow: 0px 1px 3px 1px rgba(0, 0, 0, 0.15);\n",
              "      filter: drop-shadow(0px 1px 2px rgba(0, 0, 0, 0.3));\n",
              "      fill: #FFFFFF;\n",
              "    }\n",
              "  </style>\n",
              "\n",
              "      <script>\n",
              "        const buttonEl =\n",
              "          document.querySelector('#df-0aded011-0d7b-4db1-9fd9-515c5dc6d3d8 button.colab-df-convert');\n",
              "        buttonEl.style.display =\n",
              "          google.colab.kernel.accessAllowed ? 'block' : 'none';\n",
              "\n",
              "        async function convertToInteractive(key) {\n",
              "          const element = document.querySelector('#df-0aded011-0d7b-4db1-9fd9-515c5dc6d3d8');\n",
              "          const dataTable =\n",
              "            await google.colab.kernel.invokeFunction('convertToInteractive',\n",
              "                                                     [key], {});\n",
              "          if (!dataTable) return;\n",
              "\n",
              "          const docLinkHtml = 'Like what you see? Visit the ' +\n",
              "            '<a target=\"_blank\" href=https://colab.research.google.com/notebooks/data_table.ipynb>data table notebook</a>'\n",
              "            + ' to learn more about interactive tables.';\n",
              "          element.innerHTML = '';\n",
              "          dataTable['output_type'] = 'display_data';\n",
              "          await google.colab.output.renderOutput(dataTable, element);\n",
              "          const docLink = document.createElement('div');\n",
              "          docLink.innerHTML = docLinkHtml;\n",
              "          element.appendChild(docLink);\n",
              "        }\n",
              "      </script>\n",
              "    </div>\n",
              "  </div>\n",
              "  "
            ]
          },
          "metadata": {},
          "execution_count": 2
        }
      ]
    },
    {
      "cell_type": "code",
      "source": [
        "data.count()"
      ],
      "metadata": {
        "colab": {
          "base_uri": "https://localhost:8080/"
        },
        "id": "xU-d7OsvP_tJ",
        "outputId": "03b1f39d-bc44-45ea-d59d-a059fafb40cf"
      },
      "execution_count": 3,
      "outputs": [
        {
          "output_type": "execute_result",
          "data": {
            "text/plain": [
              "rank                 2668\n",
              "personName           2668\n",
              "age                  2582\n",
              "finalWorth           2668\n",
              "category             2668\n",
              "source               2668\n",
              "country              2655\n",
              "state                 748\n",
              "city                 2624\n",
              "organization          352\n",
              "selfMade             2668\n",
              "gender               2652\n",
              "birthDate            2569\n",
              "title                 401\n",
              "philanthropyScore     396\n",
              "bio                  2668\n",
              "about                1562\n",
              "dtype: int64"
            ]
          },
          "metadata": {},
          "execution_count": 3
        }
      ]
    },
    {
      "cell_type": "code",
      "source": [
        "data.dtypes"
      ],
      "metadata": {
        "colab": {
          "base_uri": "https://localhost:8080/"
        },
        "id": "g9U_KAHOQTdw",
        "outputId": "3922147f-2333-4893-d11a-f6c726fcde24"
      },
      "execution_count": 4,
      "outputs": [
        {
          "output_type": "execute_result",
          "data": {
            "text/plain": [
              "rank                   int64\n",
              "personName            object\n",
              "age                  float64\n",
              "finalWorth             int64\n",
              "category              object\n",
              "source                object\n",
              "country               object\n",
              "state                 object\n",
              "city                  object\n",
              "organization          object\n",
              "selfMade                bool\n",
              "gender                object\n",
              "birthDate             object\n",
              "title                 object\n",
              "philanthropyScore    float64\n",
              "bio                   object\n",
              "about                 object\n",
              "dtype: object"
            ]
          },
          "metadata": {},
          "execution_count": 4
        }
      ]
    },
    {
      "cell_type": "code",
      "source": [
        "data.shape"
      ],
      "metadata": {
        "colab": {
          "base_uri": "https://localhost:8080/"
        },
        "id": "kysqw7dTQdf9",
        "outputId": "26a18df9-52af-4b84-a914-b06d49c912ac"
      },
      "execution_count": 5,
      "outputs": [
        {
          "output_type": "execute_result",
          "data": {
            "text/plain": [
              "(2668, 17)"
            ]
          },
          "metadata": {},
          "execution_count": 5
        }
      ]
    },
    {
      "cell_type": "code",
      "source": [
        "data.isnull().sum()"
      ],
      "metadata": {
        "colab": {
          "base_uri": "https://localhost:8080/"
        },
        "id": "i0UVCL-8QUoh",
        "outputId": "ef50771f-9c0c-4687-d5a4-6d819a093acf"
      },
      "execution_count": 6,
      "outputs": [
        {
          "output_type": "execute_result",
          "data": {
            "text/plain": [
              "rank                    0\n",
              "personName              0\n",
              "age                    86\n",
              "finalWorth              0\n",
              "category                0\n",
              "source                  0\n",
              "country                13\n",
              "state                1920\n",
              "city                   44\n",
              "organization         2316\n",
              "selfMade                0\n",
              "gender                 16\n",
              "birthDate              99\n",
              "title                2267\n",
              "philanthropyScore    2272\n",
              "bio                     0\n",
              "about                1106\n",
              "dtype: int64"
            ]
          },
          "metadata": {},
          "execution_count": 6
        }
      ]
    },
    {
      "cell_type": "code",
      "source": [
        "data.duplicated().sum()"
      ],
      "metadata": {
        "colab": {
          "base_uri": "https://localhost:8080/"
        },
        "id": "z-gkbn4LQZD9",
        "outputId": "dbb3cf0b-9fa0-4f42-d0be-7b9abcb29348"
      },
      "execution_count": 7,
      "outputs": [
        {
          "output_type": "execute_result",
          "data": {
            "text/plain": [
              "0"
            ]
          },
          "metadata": {},
          "execution_count": 7
        }
      ]
    },
    {
      "cell_type": "code",
      "source": [
        "data.info()"
      ],
      "metadata": {
        "colab": {
          "base_uri": "https://localhost:8080/"
        },
        "id": "UxVCSzKGQi4R",
        "outputId": "2cbf1e76-0339-45d4-f989-f0f2f3e92d99"
      },
      "execution_count": 8,
      "outputs": [
        {
          "output_type": "stream",
          "name": "stdout",
          "text": [
            "<class 'pandas.core.frame.DataFrame'>\n",
            "RangeIndex: 2668 entries, 0 to 2667\n",
            "Data columns (total 17 columns):\n",
            " #   Column             Non-Null Count  Dtype  \n",
            "---  ------             --------------  -----  \n",
            " 0   rank               2668 non-null   int64  \n",
            " 1   personName         2668 non-null   object \n",
            " 2   age                2582 non-null   float64\n",
            " 3   finalWorth         2668 non-null   int64  \n",
            " 4   category           2668 non-null   object \n",
            " 5   source             2668 non-null   object \n",
            " 6   country            2655 non-null   object \n",
            " 7   state              748 non-null    object \n",
            " 8   city               2624 non-null   object \n",
            " 9   organization       352 non-null    object \n",
            " 10  selfMade           2668 non-null   bool   \n",
            " 11  gender             2652 non-null   object \n",
            " 12  birthDate          2569 non-null   object \n",
            " 13  title              401 non-null    object \n",
            " 14  philanthropyScore  396 non-null    float64\n",
            " 15  bio                2668 non-null   object \n",
            " 16  about              1562 non-null   object \n",
            "dtypes: bool(1), float64(2), int64(2), object(12)\n",
            "memory usage: 336.2+ KB\n"
          ]
        }
      ]
    },
    {
      "cell_type": "code",
      "source": [
        "data.describe(include = 'all').T"
      ],
      "metadata": {
        "colab": {
          "base_uri": "https://localhost:8080/",
          "height": 731
        },
        "id": "ZgtNSfalQm_U",
        "outputId": "ed76f962-b6b4-4fa9-c2ed-92c860354ee9"
      },
      "execution_count": 9,
      "outputs": [
        {
          "output_type": "execute_result",
          "data": {
            "text/plain": [
              "                    count unique  \\\n",
              "rank               2668.0    NaN   \n",
              "personName           2668   2666   \n",
              "age                2582.0    NaN   \n",
              "finalWorth         2668.0    NaN   \n",
              "category             2668     18   \n",
              "source               2668    914   \n",
              "country              2655     73   \n",
              "state                 748     42   \n",
              "city                 2624    749   \n",
              "organization          352    316   \n",
              "selfMade             2668      2   \n",
              "gender               2652      2   \n",
              "birthDate            2569   2044   \n",
              "title                 401     94   \n",
              "philanthropyScore   396.0    NaN   \n",
              "bio                  2668   2668   \n",
              "about                1562   1548   \n",
              "\n",
              "                                                                 top  freq  \\\n",
              "rank                                                             NaN   NaN   \n",
              "personName                                                     Li Li     2   \n",
              "age                                                              NaN   NaN   \n",
              "finalWorth                                                       NaN   NaN   \n",
              "category                                       Finance & Investments   392   \n",
              "source                                                   real estate   151   \n",
              "country                                                United States   748   \n",
              "state                                                     California   186   \n",
              "city                                                        New York   106   \n",
              "organization                                          Meta Platforms     4   \n",
              "selfMade                                                        True  1891   \n",
              "gender                                                             M  2341   \n",
              "birthDate                                                   1/1/1965    19   \n",
              "title                                                   Entrepreneur    73   \n",
              "philanthropyScore                                                NaN   NaN   \n",
              "bio                Elon Musk is working to revolutionize transpor...     1   \n",
              "about              The family's Knauf Museum, on the premises of ...     4   \n",
              "\n",
              "                          mean           std     min     25%     50%     75%  \\\n",
              "rank                1302.91904    747.807782     1.0   665.0  1292.0  1929.0   \n",
              "personName                 NaN           NaN     NaN     NaN     NaN     NaN   \n",
              "age                  64.210689     13.401258    19.0    55.0    64.0    74.0   \n",
              "finalWorth         4762.350075  10540.482258  1000.0  1500.0  2400.0  4300.0   \n",
              "category                   NaN           NaN     NaN     NaN     NaN     NaN   \n",
              "source                     NaN           NaN     NaN     NaN     NaN     NaN   \n",
              "country                    NaN           NaN     NaN     NaN     NaN     NaN   \n",
              "state                      NaN           NaN     NaN     NaN     NaN     NaN   \n",
              "city                       NaN           NaN     NaN     NaN     NaN     NaN   \n",
              "organization               NaN           NaN     NaN     NaN     NaN     NaN   \n",
              "selfMade                   NaN           NaN     NaN     NaN     NaN     NaN   \n",
              "gender                     NaN           NaN     NaN     NaN     NaN     NaN   \n",
              "birthDate                  NaN           NaN     NaN     NaN     NaN     NaN   \n",
              "title                      NaN           NaN     NaN     NaN     NaN     NaN   \n",
              "philanthropyScore     1.856061      0.971486     1.0     1.0     2.0     2.0   \n",
              "bio                        NaN           NaN     NaN     NaN     NaN     NaN   \n",
              "about                      NaN           NaN     NaN     NaN     NaN     NaN   \n",
              "\n",
              "                        max  \n",
              "rank                 2578.0  \n",
              "personName              NaN  \n",
              "age                   100.0  \n",
              "finalWorth         219000.0  \n",
              "category                NaN  \n",
              "source                  NaN  \n",
              "country                 NaN  \n",
              "state                   NaN  \n",
              "city                    NaN  \n",
              "organization            NaN  \n",
              "selfMade                NaN  \n",
              "gender                  NaN  \n",
              "birthDate               NaN  \n",
              "title                   NaN  \n",
              "philanthropyScore       5.0  \n",
              "bio                     NaN  \n",
              "about                   NaN  "
            ],
            "text/html": [
              "\n",
              "  <div id=\"df-1eb82078-6adb-49eb-bf1c-230b88551861\">\n",
              "    <div class=\"colab-df-container\">\n",
              "      <div>\n",
              "<style scoped>\n",
              "    .dataframe tbody tr th:only-of-type {\n",
              "        vertical-align: middle;\n",
              "    }\n",
              "\n",
              "    .dataframe tbody tr th {\n",
              "        vertical-align: top;\n",
              "    }\n",
              "\n",
              "    .dataframe thead th {\n",
              "        text-align: right;\n",
              "    }\n",
              "</style>\n",
              "<table border=\"1\" class=\"dataframe\">\n",
              "  <thead>\n",
              "    <tr style=\"text-align: right;\">\n",
              "      <th></th>\n",
              "      <th>count</th>\n",
              "      <th>unique</th>\n",
              "      <th>top</th>\n",
              "      <th>freq</th>\n",
              "      <th>mean</th>\n",
              "      <th>std</th>\n",
              "      <th>min</th>\n",
              "      <th>25%</th>\n",
              "      <th>50%</th>\n",
              "      <th>75%</th>\n",
              "      <th>max</th>\n",
              "    </tr>\n",
              "  </thead>\n",
              "  <tbody>\n",
              "    <tr>\n",
              "      <th>rank</th>\n",
              "      <td>2668.0</td>\n",
              "      <td>NaN</td>\n",
              "      <td>NaN</td>\n",
              "      <td>NaN</td>\n",
              "      <td>1302.91904</td>\n",
              "      <td>747.807782</td>\n",
              "      <td>1.0</td>\n",
              "      <td>665.0</td>\n",
              "      <td>1292.0</td>\n",
              "      <td>1929.0</td>\n",
              "      <td>2578.0</td>\n",
              "    </tr>\n",
              "    <tr>\n",
              "      <th>personName</th>\n",
              "      <td>2668</td>\n",
              "      <td>2666</td>\n",
              "      <td>Li Li</td>\n",
              "      <td>2</td>\n",
              "      <td>NaN</td>\n",
              "      <td>NaN</td>\n",
              "      <td>NaN</td>\n",
              "      <td>NaN</td>\n",
              "      <td>NaN</td>\n",
              "      <td>NaN</td>\n",
              "      <td>NaN</td>\n",
              "    </tr>\n",
              "    <tr>\n",
              "      <th>age</th>\n",
              "      <td>2582.0</td>\n",
              "      <td>NaN</td>\n",
              "      <td>NaN</td>\n",
              "      <td>NaN</td>\n",
              "      <td>64.210689</td>\n",
              "      <td>13.401258</td>\n",
              "      <td>19.0</td>\n",
              "      <td>55.0</td>\n",
              "      <td>64.0</td>\n",
              "      <td>74.0</td>\n",
              "      <td>100.0</td>\n",
              "    </tr>\n",
              "    <tr>\n",
              "      <th>finalWorth</th>\n",
              "      <td>2668.0</td>\n",
              "      <td>NaN</td>\n",
              "      <td>NaN</td>\n",
              "      <td>NaN</td>\n",
              "      <td>4762.350075</td>\n",
              "      <td>10540.482258</td>\n",
              "      <td>1000.0</td>\n",
              "      <td>1500.0</td>\n",
              "      <td>2400.0</td>\n",
              "      <td>4300.0</td>\n",
              "      <td>219000.0</td>\n",
              "    </tr>\n",
              "    <tr>\n",
              "      <th>category</th>\n",
              "      <td>2668</td>\n",
              "      <td>18</td>\n",
              "      <td>Finance &amp; Investments</td>\n",
              "      <td>392</td>\n",
              "      <td>NaN</td>\n",
              "      <td>NaN</td>\n",
              "      <td>NaN</td>\n",
              "      <td>NaN</td>\n",
              "      <td>NaN</td>\n",
              "      <td>NaN</td>\n",
              "      <td>NaN</td>\n",
              "    </tr>\n",
              "    <tr>\n",
              "      <th>source</th>\n",
              "      <td>2668</td>\n",
              "      <td>914</td>\n",
              "      <td>real estate</td>\n",
              "      <td>151</td>\n",
              "      <td>NaN</td>\n",
              "      <td>NaN</td>\n",
              "      <td>NaN</td>\n",
              "      <td>NaN</td>\n",
              "      <td>NaN</td>\n",
              "      <td>NaN</td>\n",
              "      <td>NaN</td>\n",
              "    </tr>\n",
              "    <tr>\n",
              "      <th>country</th>\n",
              "      <td>2655</td>\n",
              "      <td>73</td>\n",
              "      <td>United States</td>\n",
              "      <td>748</td>\n",
              "      <td>NaN</td>\n",
              "      <td>NaN</td>\n",
              "      <td>NaN</td>\n",
              "      <td>NaN</td>\n",
              "      <td>NaN</td>\n",
              "      <td>NaN</td>\n",
              "      <td>NaN</td>\n",
              "    </tr>\n",
              "    <tr>\n",
              "      <th>state</th>\n",
              "      <td>748</td>\n",
              "      <td>42</td>\n",
              "      <td>California</td>\n",
              "      <td>186</td>\n",
              "      <td>NaN</td>\n",
              "      <td>NaN</td>\n",
              "      <td>NaN</td>\n",
              "      <td>NaN</td>\n",
              "      <td>NaN</td>\n",
              "      <td>NaN</td>\n",
              "      <td>NaN</td>\n",
              "    </tr>\n",
              "    <tr>\n",
              "      <th>city</th>\n",
              "      <td>2624</td>\n",
              "      <td>749</td>\n",
              "      <td>New York</td>\n",
              "      <td>106</td>\n",
              "      <td>NaN</td>\n",
              "      <td>NaN</td>\n",
              "      <td>NaN</td>\n",
              "      <td>NaN</td>\n",
              "      <td>NaN</td>\n",
              "      <td>NaN</td>\n",
              "      <td>NaN</td>\n",
              "    </tr>\n",
              "    <tr>\n",
              "      <th>organization</th>\n",
              "      <td>352</td>\n",
              "      <td>316</td>\n",
              "      <td>Meta Platforms</td>\n",
              "      <td>4</td>\n",
              "      <td>NaN</td>\n",
              "      <td>NaN</td>\n",
              "      <td>NaN</td>\n",
              "      <td>NaN</td>\n",
              "      <td>NaN</td>\n",
              "      <td>NaN</td>\n",
              "      <td>NaN</td>\n",
              "    </tr>\n",
              "    <tr>\n",
              "      <th>selfMade</th>\n",
              "      <td>2668</td>\n",
              "      <td>2</td>\n",
              "      <td>True</td>\n",
              "      <td>1891</td>\n",
              "      <td>NaN</td>\n",
              "      <td>NaN</td>\n",
              "      <td>NaN</td>\n",
              "      <td>NaN</td>\n",
              "      <td>NaN</td>\n",
              "      <td>NaN</td>\n",
              "      <td>NaN</td>\n",
              "    </tr>\n",
              "    <tr>\n",
              "      <th>gender</th>\n",
              "      <td>2652</td>\n",
              "      <td>2</td>\n",
              "      <td>M</td>\n",
              "      <td>2341</td>\n",
              "      <td>NaN</td>\n",
              "      <td>NaN</td>\n",
              "      <td>NaN</td>\n",
              "      <td>NaN</td>\n",
              "      <td>NaN</td>\n",
              "      <td>NaN</td>\n",
              "      <td>NaN</td>\n",
              "    </tr>\n",
              "    <tr>\n",
              "      <th>birthDate</th>\n",
              "      <td>2569</td>\n",
              "      <td>2044</td>\n",
              "      <td>1/1/1965</td>\n",
              "      <td>19</td>\n",
              "      <td>NaN</td>\n",
              "      <td>NaN</td>\n",
              "      <td>NaN</td>\n",
              "      <td>NaN</td>\n",
              "      <td>NaN</td>\n",
              "      <td>NaN</td>\n",
              "      <td>NaN</td>\n",
              "    </tr>\n",
              "    <tr>\n",
              "      <th>title</th>\n",
              "      <td>401</td>\n",
              "      <td>94</td>\n",
              "      <td>Entrepreneur</td>\n",
              "      <td>73</td>\n",
              "      <td>NaN</td>\n",
              "      <td>NaN</td>\n",
              "      <td>NaN</td>\n",
              "      <td>NaN</td>\n",
              "      <td>NaN</td>\n",
              "      <td>NaN</td>\n",
              "      <td>NaN</td>\n",
              "    </tr>\n",
              "    <tr>\n",
              "      <th>philanthropyScore</th>\n",
              "      <td>396.0</td>\n",
              "      <td>NaN</td>\n",
              "      <td>NaN</td>\n",
              "      <td>NaN</td>\n",
              "      <td>1.856061</td>\n",
              "      <td>0.971486</td>\n",
              "      <td>1.0</td>\n",
              "      <td>1.0</td>\n",
              "      <td>2.0</td>\n",
              "      <td>2.0</td>\n",
              "      <td>5.0</td>\n",
              "    </tr>\n",
              "    <tr>\n",
              "      <th>bio</th>\n",
              "      <td>2668</td>\n",
              "      <td>2668</td>\n",
              "      <td>Elon Musk is working to revolutionize transpor...</td>\n",
              "      <td>1</td>\n",
              "      <td>NaN</td>\n",
              "      <td>NaN</td>\n",
              "      <td>NaN</td>\n",
              "      <td>NaN</td>\n",
              "      <td>NaN</td>\n",
              "      <td>NaN</td>\n",
              "      <td>NaN</td>\n",
              "    </tr>\n",
              "    <tr>\n",
              "      <th>about</th>\n",
              "      <td>1562</td>\n",
              "      <td>1548</td>\n",
              "      <td>The family's Knauf Museum, on the premises of ...</td>\n",
              "      <td>4</td>\n",
              "      <td>NaN</td>\n",
              "      <td>NaN</td>\n",
              "      <td>NaN</td>\n",
              "      <td>NaN</td>\n",
              "      <td>NaN</td>\n",
              "      <td>NaN</td>\n",
              "      <td>NaN</td>\n",
              "    </tr>\n",
              "  </tbody>\n",
              "</table>\n",
              "</div>\n",
              "      <button class=\"colab-df-convert\" onclick=\"convertToInteractive('df-1eb82078-6adb-49eb-bf1c-230b88551861')\"\n",
              "              title=\"Convert this dataframe to an interactive table.\"\n",
              "              style=\"display:none;\">\n",
              "        \n",
              "  <svg xmlns=\"http://www.w3.org/2000/svg\" height=\"24px\"viewBox=\"0 0 24 24\"\n",
              "       width=\"24px\">\n",
              "    <path d=\"M0 0h24v24H0V0z\" fill=\"none\"/>\n",
              "    <path d=\"M18.56 5.44l.94 2.06.94-2.06 2.06-.94-2.06-.94-.94-2.06-.94 2.06-2.06.94zm-11 1L8.5 8.5l.94-2.06 2.06-.94-2.06-.94L8.5 2.5l-.94 2.06-2.06.94zm10 10l.94 2.06.94-2.06 2.06-.94-2.06-.94-.94-2.06-.94 2.06-2.06.94z\"/><path d=\"M17.41 7.96l-1.37-1.37c-.4-.4-.92-.59-1.43-.59-.52 0-1.04.2-1.43.59L10.3 9.45l-7.72 7.72c-.78.78-.78 2.05 0 2.83L4 21.41c.39.39.9.59 1.41.59.51 0 1.02-.2 1.41-.59l7.78-7.78 2.81-2.81c.8-.78.8-2.07 0-2.86zM5.41 20L4 18.59l7.72-7.72 1.47 1.35L5.41 20z\"/>\n",
              "  </svg>\n",
              "      </button>\n",
              "      \n",
              "  <style>\n",
              "    .colab-df-container {\n",
              "      display:flex;\n",
              "      flex-wrap:wrap;\n",
              "      gap: 12px;\n",
              "    }\n",
              "\n",
              "    .colab-df-convert {\n",
              "      background-color: #E8F0FE;\n",
              "      border: none;\n",
              "      border-radius: 50%;\n",
              "      cursor: pointer;\n",
              "      display: none;\n",
              "      fill: #1967D2;\n",
              "      height: 32px;\n",
              "      padding: 0 0 0 0;\n",
              "      width: 32px;\n",
              "    }\n",
              "\n",
              "    .colab-df-convert:hover {\n",
              "      background-color: #E2EBFA;\n",
              "      box-shadow: 0px 1px 2px rgba(60, 64, 67, 0.3), 0px 1px 3px 1px rgba(60, 64, 67, 0.15);\n",
              "      fill: #174EA6;\n",
              "    }\n",
              "\n",
              "    [theme=dark] .colab-df-convert {\n",
              "      background-color: #3B4455;\n",
              "      fill: #D2E3FC;\n",
              "    }\n",
              "\n",
              "    [theme=dark] .colab-df-convert:hover {\n",
              "      background-color: #434B5C;\n",
              "      box-shadow: 0px 1px 3px 1px rgba(0, 0, 0, 0.15);\n",
              "      filter: drop-shadow(0px 1px 2px rgba(0, 0, 0, 0.3));\n",
              "      fill: #FFFFFF;\n",
              "    }\n",
              "  </style>\n",
              "\n",
              "      <script>\n",
              "        const buttonEl =\n",
              "          document.querySelector('#df-1eb82078-6adb-49eb-bf1c-230b88551861 button.colab-df-convert');\n",
              "        buttonEl.style.display =\n",
              "          google.colab.kernel.accessAllowed ? 'block' : 'none';\n",
              "\n",
              "        async function convertToInteractive(key) {\n",
              "          const element = document.querySelector('#df-1eb82078-6adb-49eb-bf1c-230b88551861');\n",
              "          const dataTable =\n",
              "            await google.colab.kernel.invokeFunction('convertToInteractive',\n",
              "                                                     [key], {});\n",
              "          if (!dataTable) return;\n",
              "\n",
              "          const docLinkHtml = 'Like what you see? Visit the ' +\n",
              "            '<a target=\"_blank\" href=https://colab.research.google.com/notebooks/data_table.ipynb>data table notebook</a>'\n",
              "            + ' to learn more about interactive tables.';\n",
              "          element.innerHTML = '';\n",
              "          dataTable['output_type'] = 'display_data';\n",
              "          await google.colab.output.renderOutput(dataTable, element);\n",
              "          const docLink = document.createElement('div');\n",
              "          docLink.innerHTML = docLinkHtml;\n",
              "          element.appendChild(docLink);\n",
              "        }\n",
              "      </script>\n",
              "    </div>\n",
              "  </div>\n",
              "  "
            ]
          },
          "metadata": {},
          "execution_count": 9
        }
      ]
    },
    {
      "cell_type": "markdown",
      "source": [
        "**Data Visualization**"
      ],
      "metadata": {
        "id": "r7PqVGHFmrGt"
      }
    },
    {
      "cell_type": "code",
      "source": [
        "sns.boxplot(x=data['finalWorth'])"
      ],
      "metadata": {
        "colab": {
          "base_uri": "https://localhost:8080/",
          "height": 296
        },
        "id": "vhkdvlIKQq_E",
        "outputId": "d944960b-8a10-4adb-add6-6f04acfb0a9c"
      },
      "execution_count": 10,
      "outputs": [
        {
          "output_type": "execute_result",
          "data": {
            "text/plain": [
              "<AxesSubplot:xlabel='finalWorth'>"
            ]
          },
          "metadata": {},
          "execution_count": 10
        },
        {
          "output_type": "display_data",
          "data": {
            "text/plain": [
              "<Figure size 432x288 with 1 Axes>"
            ],
            "image/png": "[encoded data removed]"
          },
          "metadata": {
            "needs_background": "light"
          }
        }
      ]
    },
    {
      "cell_type": "code",
      "source": [
        "sns.boxplot(x=data['age'])"
      ],
      "metadata": {
        "colab": {
          "base_uri": "https://localhost:8080/",
          "height": 296
        },
        "id": "scsQPYbfRGnb",
        "outputId": "c285c71f-111f-4c8e-d193-74f7b59c33d8"
      },
      "execution_count": 11,
      "outputs": [
        {
          "output_type": "execute_result",
          "data": {
            "text/plain": [
              "<AxesSubplot:xlabel='age'>"
            ]
          },
          "metadata": {},
          "execution_count": 11
        },
        {
          "output_type": "display_data",
          "data": {
            "text/plain": [
              "<Figure size 432x288 with 1 Axes>"
            ],
            "image/png": "[encoded data removed]"
          },
          "metadata": {
            "needs_background": "light"
          }
        }
      ]
    },
    {
      "cell_type": "code",
      "source": [
        "plt.figure(figsize=(10,5))\n",
        "a = data.corr()\n",
        "sns.heatmap(a,cmap=\"BrBG\",annot=True)\n",
        "a"
      ],
      "metadata": {
        "colab": {
          "base_uri": "https://localhost:8080/",
          "height": 513
        },
        "id": "_ledBG8PQ4-z",
        "outputId": "76bf5c5a-270c-43fe-a5ab-3593ff663626"
      },
      "execution_count": 14,
      "outputs": [
        {
          "output_type": "execute_result",
          "data": {
            "text/plain": [
              "                       rank       age  finalWorth  selfMade  philanthropyScore\n",
              "rank               1.000000 -0.129878   -0.437261  0.065436           0.043902\n",
              "age               -0.129878  1.000000    0.041423 -0.086010           0.221939\n",
              "finalWorth        -0.437261  0.041423    1.000000 -0.022941           0.020995\n",
              "selfMade           0.065436 -0.086010   -0.022941  1.000000           0.059796\n",
              "philanthropyScore  0.043902  0.221939    0.020995  0.059796           1.000000"
            ],
            "text/html": [
              "\n",
              "  <div id=\"df-bdd2fac5-f2e6-4c99-a37d-3939cd8e0f4d\">\n",
              "    <div class=\"colab-df-container\">\n",
              "      <div>\n",
              "<style scoped>\n",
              "    .dataframe tbody tr th:only-of-type {\n",
              "        vertical-align: middle;\n",
              "    }\n",
              "\n",
              "    .dataframe tbody tr th {\n",
              "        vertical-align: top;\n",
              "    }\n",
              "\n",
              "    .dataframe thead th {\n",
              "        text-align: right;\n",
              "    }\n",
              "</style>\n",
              "<table border=\"1\" class=\"dataframe\">\n",
              "  <thead>\n",
              "    <tr style=\"text-align: right;\">\n",
              "      <th></th>\n",
              "      <th>rank</th>\n",
              "      <th>age</th>\n",
              "      <th>finalWorth</th>\n",
              "      <th>selfMade</th>\n",
              "      <th>philanthropyScore</th>\n",
              "    </tr>\n",
              "  </thead>\n",
              "  <tbody>\n",
              "    <tr>\n",
              "      <th>rank</th>\n",
              "      <td>1.000000</td>\n",
              "      <td>-0.129878</td>\n",
              "      <td>-0.437261</td>\n",
              "      <td>0.065436</td>\n",
              "      <td>0.043902</td>\n",
              "    </tr>\n",
              "    <tr>\n",
              "      <th>age</th>\n",
              "      <td>-0.129878</td>\n",
              "      <td>1.000000</td>\n",
              "      <td>0.041423</td>\n",
              "      <td>-0.086010</td>\n",
              "      <td>0.221939</td>\n",
              "    </tr>\n",
              "    <tr>\n",
              "      <th>finalWorth</th>\n",
              "      <td>-0.437261</td>\n",
              "      <td>0.041423</td>\n",
              "      <td>1.000000</td>\n",
              "      <td>-0.022941</td>\n",
              "      <td>0.020995</td>\n",
              "    </tr>\n",
              "    <tr>\n",
              "      <th>selfMade</th>\n",
              "      <td>0.065436</td>\n",
              "      <td>-0.086010</td>\n",
              "      <td>-0.022941</td>\n",
              "      <td>1.000000</td>\n",
              "      <td>0.059796</td>\n",
              "    </tr>\n",
              "    <tr>\n",
              "      <th>philanthropyScore</th>\n",
              "      <td>0.043902</td>\n",
              "      <td>0.221939</td>\n",
              "      <td>0.020995</td>\n",
              "      <td>0.059796</td>\n",
              "      <td>1.000000</td>\n",
              "    </tr>\n",
              "  </tbody>\n",
              "</table>\n",
              "</div>\n",
              "      <button class=\"colab-df-convert\" onclick=\"convertToInteractive('df-bdd2fac5-f2e6-4c99-a37d-3939cd8e0f4d')\"\n",
              "              title=\"Convert this dataframe to an interactive table.\"\n",
              "              style=\"display:none;\">\n",
              "        \n",
              "  <svg xmlns=\"http://www.w3.org/2000/svg\" height=\"24px\"viewBox=\"0 0 24 24\"\n",
              "       width=\"24px\">\n",
              "    <path d=\"M0 0h24v24H0V0z\" fill=\"none\"/>\n",
              "    <path d=\"M18.56 5.44l.94 2.06.94-2.06 2.06-.94-2.06-.94-.94-2.06-.94 2.06-2.06.94zm-11 1L8.5 8.5l.94-2.06 2.06-.94-2.06-.94L8.5 2.5l-.94 2.06-2.06.94zm10 10l.94 2.06.94-2.06 2.06-.94-2.06-.94-.94-2.06-.94 2.06-2.06.94z\"/><path d=\"M17.41 7.96l-1.37-1.37c-.4-.4-.92-.59-1.43-.59-.52 0-1.04.2-1.43.59L10.3 9.45l-7.72 7.72c-.78.78-.78 2.05 0 2.83L4 21.41c.39.39.9.59 1.41.59.51 0 1.02-.2 1.41-.59l7.78-7.78 2.81-2.81c.8-.78.8-2.07 0-2.86zM5.41 20L4 18.59l7.72-7.72 1.47 1.35L5.41 20z\"/>\n",
              "  </svg>\n",
              "      </button>\n",
              "      \n",
              "  <style>\n",
              "    .colab-df-container {\n",
              "      display:flex;\n",
              "      flex-wrap:wrap;\n",
              "      gap: 12px;\n",
              "    }\n",
              "\n",
              "    .colab-df-convert {\n",
              "      background-color: #E8F0FE;\n",
              "      border: none;\n",
              "      border-radius: 50%;\n",
              "      cursor: pointer;\n",
              "      display: none;\n",
              "      fill: #1967D2;\n",
              "      height: 32px;\n",
              "      padding: 0 0 0 0;\n",
              "      width: 32px;\n",
              "    }\n",
              "\n",
              "    .colab-df-convert:hover {\n",
              "      background-color: #E2EBFA;\n",
              "      box-shadow: 0px 1px 2px rgba(60, 64, 67, 0.3), 0px 1px 3px 1px rgba(60, 64, 67, 0.15);\n",
              "      fill: #174EA6;\n",
              "    }\n",
              "\n",
              "    [theme=dark] .colab-df-convert {\n",
              "      background-color: #3B4455;\n",
              "      fill: #D2E3FC;\n",
              "    }\n",
              "\n",
              "    [theme=dark] .colab-df-convert:hover {\n",
              "      background-color: #434B5C;\n",
              "      box-shadow: 0px 1px 3px 1px rgba(0, 0, 0, 0.15);\n",
              "      filter: drop-shadow(0px 1px 2px rgba(0, 0, 0, 0.3));\n",
              "      fill: #FFFFFF;\n",
              "    }\n",
              "  </style>\n",
              "\n",
              "      <script>\n",
              "        const buttonEl =\n",
              "          document.querySelector('#df-bdd2fac5-f2e6-4c99-a37d-3939cd8e0f4d button.colab-df-convert');\n",
              "        buttonEl.style.display =\n",
              "          google.colab.kernel.accessAllowed ? 'block' : 'none';\n",
              "\n",
              "        async function convertToInteractive(key) {\n",
              "          const element = document.querySelector('#df-bdd2fac5-f2e6-4c99-a37d-3939cd8e0f4d');\n",
              "          const dataTable =\n",
              "            await google.colab.kernel.invokeFunction('convertToInteractive',\n",
              "                                                     [key], {});\n",
              "          if (!dataTable) return;\n",
              "\n",
              "          const docLinkHtml = 'Like what you see? Visit the ' +\n",
              "            '<a target=\"_blank\" href=https://colab.research.google.com/notebooks/data_table.ipynb>data table notebook</a>'\n",
              "            + ' to learn more about interactive tables.';\n",
              "          element.innerHTML = '';\n",
              "          dataTable['output_type'] = 'display_data';\n",
              "          await google.colab.output.renderOutput(dataTable, element);\n",
              "          const docLink = document.createElement('div');\n",
              "          docLink.innerHTML = docLinkHtml;\n",
              "          element.appendChild(docLink);\n",
              "        }\n",
              "      </script>\n",
              "    </div>\n",
              "  </div>\n",
              "  "
            ]
          },
          "metadata": {},
          "execution_count": 14
        },
        {
          "output_type": "display_data",
          "data": {
            "text/plain": [
              "<Figure size 720x360 with 2 Axes>"
            ],
            "image/png": "[encoded data removed]"
          },
          "metadata": {
            "needs_background": "light"
          }
        }
      ]
    },
    {
      "cell_type": "code",
      "source": [
        "figure = plt.figure(figsize=(10,18))\n",
        "size = (5,2)\n",
        "figure.suptitle('Overall Analysis', fontsize=35, y=0.95) \n",
        "plt.subplots_adjust(hspace=0.5,wspace=0.2)\n",
        "color = ['darkturquoise','cornflowerblue']\n",
        "for a,b in zip(range(3),['gender','selfMade']):\n",
        "  position = (0,a)\n",
        "  ax = plt.subplot2grid(size, position)\n",
        "  df = data[b].value_counts()\n",
        "  labels = df.index\n",
        "  explode = (0, 0.2)\n",
        "  angle = [45,80]\n",
        "  fig = plt.pie(x=df, labels=labels, autopct='%1.1f%%', explode=explode,shadow=True, startangle=angle[a],colors=color)\n",
        "  plt.title(b.capitalize(), size=10, color='grey')\n",
        "plt.show()"
      ],
      "metadata": {
        "id": "ZAfmD9pznFhp",
        "colab": {
          "base_uri": "https://localhost:8080/",
          "height": 261
        },
        "outputId": "e89496db-9dcd-4564-ba9e-53b5fa34bea8"
      },
      "execution_count": 15,
      "outputs": [
        {
          "output_type": "display_data",
          "data": {
            "text/plain": [
              "<Figure size 720x1296 with 2 Axes>"
            ],
            "image/png": "[encoded data removed]"
          },
          "metadata": {}
        }
      ]
    },
    {
      "cell_type": "markdown",
      "source": [
        "**Model Training**"
      ],
      "metadata": {
        "id": "NU3FZssImQGQ"
      }
    },
    {
      "cell_type": "code",
      "source": [
        "data._get_numeric_data().columns.values"
      ],
      "metadata": {
        "id": "fbDt2_Pa3wbE",
        "colab": {
          "base_uri": "https://localhost:8080/"
        },
        "outputId": "5ded577c-d102-4c14-c666-2697ad5390e6"
      },
      "execution_count": 16,
      "outputs": [
        {
          "output_type": "execute_result",
          "data": {
            "text/plain": [
              "array(['rank', 'age', 'finalWorth', 'selfMade', 'philanthropyScore'],\n",
              "      dtype=object)"
            ]
          },
          "metadata": {},
          "execution_count": 16
        }
      ]
    },
    {
      "cell_type": "code",
      "source": [
        "data = data.replace([np.inf, -np.inf], np.nan).fillna(0)"
      ],
      "metadata": {
        "id": "WpelfswoBP9I"
      },
      "execution_count": 17,
      "outputs": []
    },
    {
      "cell_type": "code",
      "source": [
        "x = data['finalWorth']\n",
        "x.head()"
      ],
      "metadata": {
        "colab": {
          "base_uri": "https://localhost:8080/"
        },
        "id": "2iLbS7oQ-nC2",
        "outputId": "d05e692a-7089-4fc4-8290-aeb456803f70"
      },
      "execution_count": 18,
      "outputs": [
        {
          "output_type": "execute_result",
          "data": {
            "text/plain": [
              "0    219000\n",
              "1    171000\n",
              "2    158000\n",
              "3    129000\n",
              "4    118000\n",
              "Name: finalWorth, dtype: int64"
            ]
          },
          "metadata": {},
          "execution_count": 18
        }
      ]
    },
    {
      "cell_type": "code",
      "source": [
        "np.any(np.isnan(x))"
      ],
      "metadata": {
        "colab": {
          "base_uri": "https://localhost:8080/"
        },
        "id": "aNOavzxWA-wH",
        "outputId": "e8c196f4-433f-4f17-a0fd-5758dafa0913"
      },
      "execution_count": 19,
      "outputs": [
        {
          "output_type": "execute_result",
          "data": {
            "text/plain": [
              "False"
            ]
          },
          "metadata": {},
          "execution_count": 19
        }
      ]
    },
    {
      "cell_type": "code",
      "source": [
        "y = data['rank']\n",
        "y.head()"
      ],
      "metadata": {
        "colab": {
          "base_uri": "https://localhost:8080/"
        },
        "id": "XuhMXaI5_xT_",
        "outputId": "1342fc08-b2fd-4ce1-f328-e4cec84345af"
      },
      "execution_count": 20,
      "outputs": [
        {
          "output_type": "execute_result",
          "data": {
            "text/plain": [
              "0    1\n",
              "1    2\n",
              "2    3\n",
              "3    4\n",
              "4    5\n",
              "Name: rank, dtype: int64"
            ]
          },
          "metadata": {},
          "execution_count": 20
        }
      ]
    },
    {
      "cell_type": "code",
      "source": [
        "x = data.iloc[:,0].values.reshape(-1,1)\n",
        "y = data.iloc[:,3].values.reshape(-1,1)"
      ],
      "metadata": {
        "id": "WyLkQ9h0iDxn"
      },
      "execution_count": 21,
      "outputs": []
    },
    {
      "cell_type": "code",
      "source": [
        "x.shape, y.shape"
      ],
      "metadata": {
        "colab": {
          "base_uri": "https://localhost:8080/"
        },
        "id": "di6PzjjSBxS4",
        "outputId": "3260f427-25bb-4caf-f6ed-345fff5a8452"
      },
      "execution_count": 22,
      "outputs": [
        {
          "output_type": "execute_result",
          "data": {
            "text/plain": [
              "((2668, 1), (2668, 1))"
            ]
          },
          "metadata": {},
          "execution_count": 22
        }
      ]
    },
    {
      "cell_type": "code",
      "source": [
        "from sklearn.linear_model import LinearRegression\n",
        "model = LinearRegression()"
      ],
      "metadata": {
        "id": "bakEQySD9BdK"
      },
      "execution_count": 23,
      "outputs": []
    },
    {
      "cell_type": "code",
      "source": [
        "from sklearn.model_selection import train_test_split\n",
        "X_train, X_test, y_train, y_test = train_test_split(x, y, train_size = 0.7, random_state = 0)"
      ],
      "metadata": {
        "id": "C-Pc1Qtj9Kmn"
      },
      "execution_count": 24,
      "outputs": []
    },
    {
      "cell_type": "code",
      "source": [
        "model.fit(X_train, y_train)"
      ],
      "metadata": {
        "colab": {
          "base_uri": "https://localhost:8080/",
          "height": 75
        },
        "id": "DLv79tKi9Ost",
        "outputId": "8ac64df1-84c7-477d-e470-a805f14c892e"
      },
      "execution_count": 25,
      "outputs": [
        {
          "output_type": "execute_result",
          "data": {
            "text/plain": [
              "LinearRegression()"
            ],
            "text/html": [
              "<style>#sk-container-id-1 {color: black;background-color: white;}#sk-container-id-1 pre{padding: 0;}#sk-container-id-1 div.sk-toggleable {background-color: white;}#sk-container-id-1 label.sk-toggleable__label {cursor: pointer;display: block;width: 100%;margin-bottom: 0;padding: 0.3em;box-sizing: border-box;text-align: center;}#sk-container-id-1 label.sk-toggleable__label-arrow:before {content: \"▸\";float: left;margin-right: 0.25em;color: #696969;}#sk-container-id-1 label.sk-toggleable__label-arrow:hover:before {color: black;}#sk-container-id-1 div.sk-estimator:hover label.sk-toggleable__label-arrow:before {color: black;}#sk-container-id-1 div.sk-toggleable__content {max-height: 0;max-width: 0;overflow: hidden;text-align: left;background-color: #f0f8ff;}#sk-container-id-1 div.sk-toggleable__content pre {margin: 0.2em;color: black;border-radius: 0.25em;background-color: #f0f8ff;}#sk-container-id-1 input.sk-toggleable__control:checked~div.sk-toggleable__content {max-height: 200px;max-width: 100%;overflow: auto;}#sk-container-id-1 input.sk-toggleable__control:checked~label.sk-toggleable__label-arrow:before {content: \"▾\";}#sk-container-id-1 div.sk-estimator input.sk-toggleable__control:checked~label.sk-toggleable__label {background-color: #d4ebff;}#sk-container-id-1 div.sk-label input.sk-toggleable__control:checked~label.sk-toggleable__label {background-color: #d4ebff;}#sk-container-id-1 input.sk-hidden--visually {border: 0;clip: rect(1px 1px 1px 1px);clip: rect(1px, 1px, 1px, 1px);height: 1px;margin: -1px;overflow: hidden;padding: 0;position: absolute;width: 1px;}#sk-container-id-1 div.sk-estimator {font-family: monospace;background-color: #f0f8ff;border: 1px dotted black;border-radius: 0.25em;box-sizing: border-box;margin-bottom: 0.5em;}#sk-container-id-1 div.sk-estimator:hover {background-color: #d4ebff;}#sk-container-id-1 div.sk-parallel-item::after {content: \"\";width: 100%;border-bottom: 1px solid gray;flex-grow: 1;}#sk-container-id-1 div.sk-label:hover label.sk-toggleable__label {background-color: #d4ebff;}#sk-container-id-1 div.sk-serial::before {content: \"\";position: absolute;border-left: 1px solid gray;box-sizing: border-box;top: 0;bottom: 0;left: 50%;z-index: 0;}#sk-container-id-1 div.sk-serial {display: flex;flex-direction: column;align-items: center;background-color: white;padding-right: 0.2em;padding-left: 0.2em;position: relative;}#sk-container-id-1 div.sk-item {position: relative;z-index: 1;}#sk-container-id-1 div.sk-parallel {display: flex;align-items: stretch;justify-content: center;background-color: white;position: relative;}#sk-container-id-1 div.sk-item::before, #sk-container-id-1 div.sk-parallel-item::before {content: \"\";position: absolute;border-left: 1px solid gray;box-sizing: border-box;top: 0;bottom: 0;left: 50%;z-index: -1;}#sk-container-id-1 div.sk-parallel-item {display: flex;flex-direction: column;z-index: 1;position: relative;background-color: white;}#sk-container-id-1 div.sk-parallel-item:first-child::after {align-self: flex-end;width: 50%;}#sk-container-id-1 div.sk-parallel-item:last-child::after {align-self: flex-start;width: 50%;}#sk-container-id-1 div.sk-parallel-item:only-child::after {width: 0;}#sk-container-id-1 div.sk-dashed-wrapped {border: 1px dashed gray;margin: 0 0.4em 0.5em 0.4em;box-sizing: border-box;padding-bottom: 0.4em;background-color: white;}#sk-container-id-1 div.sk-label label {font-family: monospace;font-weight: bold;display: inline-block;line-height: 1.2em;}#sk-container-id-1 div.sk-label-container {text-align: center;}#sk-container-id-1 div.sk-container {/* jupyter's `normalize.less` sets `[hidden] { display: none; }` but bootstrap.min.css set `[hidden] { display: none !important; }` so we also need the `!important` here to be able to override the default hidden behavior on the sphinx rendered scikit-learn.org. See: https://github.com/scikit-learn/scikit-learn/issues/21755 */display: inline-block !important;position: relative;}#sk-container-id-1 div.sk-text-repr-fallback {display: none;}</style><div id=\"sk-container-id-1\" class=\"sk-top-container\"><div class=\"sk-text-repr-fallback\"><pre>LinearRegression()</pre><b>In a Jupyter environment, please rerun this cell to show the HTML representation or trust the notebook. <br />On GitHub, the HTML representation is unable to render, please try loading this page with nbviewer.org.</b></div><div class=\"sk-container\" hidden><div class=\"sk-item\"><div class=\"sk-estimator sk-toggleable\"><input class=\"sk-toggleable__control sk-hidden--visually\" id=\"sk-estimator-id-1\" type=\"checkbox\" checked><label for=\"sk-estimator-id-1\" class=\"sk-toggleable__label sk-toggleable__label-arrow\">LinearRegression</label><div class=\"sk-toggleable__content\"><pre>LinearRegression()</pre></div></div></div></div></div>"
            ]
          },
          "metadata": {},
          "execution_count": 25
        }
      ]
    },
    {
      "cell_type": "code",
      "source": [
        "y_pred = model.predict(x)"
      ],
      "metadata": {
        "id": "295dGPK_FMoD"
      },
      "execution_count": 26,
      "outputs": []
    },
    {
      "cell_type": "code",
      "source": [
        "plt.scatter(x,y)\n",
        "plt.plot(x,y_pred,color='r')\n",
        "plt.show()"
      ],
      "metadata": {
        "colab": {
          "base_uri": "https://localhost:8080/",
          "height": 265
        },
        "id": "_KHaLD9ujL2O",
        "outputId": "ab62aa9a-64ab-4ddd-aad9-5a4bd1ccfbc4"
      },
      "execution_count": 27,
      "outputs": [
        {
          "output_type": "display_data",
          "data": {
            "text/plain": [
              "<Figure size 432x288 with 1 Axes>"
            ],
            "image/png": "[encoded data removed]"
          },
          "metadata": {
            "needs_background": "light"
          }
        }
      ]
    },
    {
      "cell_type": "code",
      "source": [
        "model.predict([[1000]])"
      ],
      "metadata": {
        "colab": {
          "base_uri": "https://localhost:8080/"
        },
        "id": "gykbDlU_k0vZ",
        "outputId": "af771c8c-880e-4e30-a9e5-7d0a33db0157"
      },
      "execution_count": 28,
      "outputs": [
        {
          "output_type": "execute_result",
          "data": {
            "text/plain": [
              "array([[6473.93093699]])"
            ]
          },
          "metadata": {},
          "execution_count": 28
        }
      ]
    },
    {
      "cell_type": "markdown",
      "source": [
        "**The rank is 6473**"
      ],
      "metadata": {
        "id": "I8HRnzmWmAj_"
      }
    }
  ]
}